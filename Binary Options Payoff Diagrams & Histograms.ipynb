{
 "cells": [
  {
   "cell_type": "code",
   "execution_count": 1,
   "metadata": {},
   "outputs": [],
   "source": [
    "import numpy as np\n",
    "from numpy import *\n",
    "from scipy.stats import norm\n",
    "import pandas as pd\n",
    "import pandas_datareader as pdr\n",
    "import datetime\n",
    "import ipywidgets as widgets\n",
    "from ipywidgets import *\n",
    "from ipywidgets import Output\n",
    "from datetime import *\n",
    "import time\n",
    "import matplotlib as mpl\n",
    "import matplotlib.pyplot as plt\n",
    "import matplotlib.gridspec as gridspec\n",
    "from matplotlib import style, scale"
   ]
  },
  {
   "cell_type": "markdown",
   "metadata": {},
   "source": [
    "## Start w/ Simple Payoff Diagrams. Define `Strike`, `Spot`."
   ]
  },
  {
   "cell_type": "code",
   "execution_count": 2,
   "metadata": {
    "scrolled": false
   },
   "outputs": [],
   "source": [
    "def get_payouts(df, step=5):                            #Loop through df of positions created by widgets, saved in portfolios.csv\n",
    "    max_strike = df.Strike.max()\n",
    "    min_strike = df.Strike.min()\n",
    "    at_expire = [i for i in range(min_strike - 15, max_strike + 20, step)]\n",
    "\n",
    "    for i in range(0,df.shape[0]):\n",
    "        Position = df.Position.iloc[i].max()            #Define necessary variables to create payout diagram\n",
    "        Type = df.Type.iloc[i]\n",
    "        Quant = df.Quantity.iloc[i].max()\n",
    "        Strike = df.Strike.iloc[i].max()\n",
    "        Spot = df.Spot.iloc[i].max()                   #To be deleted\n",
    "        Price = df.BS_Price.iloc[i].max() * Quant\n",
    "        \n",
    "        if Type == 'Call':\n",
    "            Call=True\n",
    "        else:\n",
    "            Call=False\n",
    "    \n",
    "    \n",
    "        if Call == True:\n",
    "            payouts = [((100 * Quant) - Price) if at_expire[i] > Strike else (-Price) for i in range(0,len(at_expire))]\n",
    "        else:\n",
    "            payouts = [((100 * Quant) - Price) if at_expire[i] <= Strike else (-Price) for i in range(0,len(at_expire))]\n",
    "\n",
    "        if i == 0:\n",
    "            \n",
    "            master = {\n",
    "                'Asset Level' : at_expire,\n",
    "                f\"Payout_{Position}\" : payouts\n",
    "            }\n",
    "        \n",
    "        else:\n",
    "            \n",
    "            master[f\"Payout_{Position}\"] = payouts\n",
    "\n",
    "    master = pd.DataFrame(master)    \n",
    "    master.set_index('Asset Level', inplace=True)\n",
    "    \n",
    "    master['Net_Payouts'] = master.sum(axis=1,skipna=True)\n",
    "    \n",
    "    ######################################################################## Plot Net Payouts Diagram\n",
    "    fig = plt.figure(figsize=(18,8))\n",
    "    ax = plt.subplot(111)\n",
    "    \n",
    "    plt.plot(master.index, master.Net_Payouts, c='b')\n",
    "    plt.axvline(x=Spot, c='g')\n",
    "    plt.axhline(y=0,c='grey')\n",
    "    \n",
    "    return master"
   ]
  },
  {
   "cell_type": "markdown",
   "metadata": {},
   "source": [
    "## Define Funtion to Find `Price` of Binary Option"
   ]
  },
  {
   "cell_type": "code",
   "execution_count": 3,
   "metadata": {},
   "outputs": [],
   "source": [
    "def time_diff(end, start=datetime.now()):\n",
    "    diff = end - start\n",
    "    diff_in_s = diff.total_seconds()\n",
    "\n",
    "    diff = int(diff_in_s)\n",
    "\n",
    "    diff = diff / 31536000\n",
    "    \n",
    "    return diff"
   ]
  },
  {
   "cell_type": "code",
   "execution_count": 4,
   "metadata": {},
   "outputs": [],
   "source": [
    "def binary_price(Spot, Strike, Maturity, Sigma, Call=True, rf=.0023, divs=0.02, Payout=100):\n",
    "    \n",
    "    d1 = (np.log(Spot/Strike) + (rf - divs + ((Sigma**2)/2) * Maturity)) / (Sigma * sqrt(Maturity))\n",
    "    d2 = d1 - (Sigma * sqrt(Maturity))\n",
    "    \n",
    "    call = Payout * exp(-rf * Maturity) * norm.cdf(d2)\n",
    "    put = Payout * exp(-rf * Maturity) * norm.cdf(-d2)\n",
    "    \n",
    "    if Call == True:\n",
    "        return round(call,2)\n",
    "    elif Call == False:\n",
    "        return round(put,2)"
   ]
  },
  {
   "cell_type": "markdown",
   "metadata": {},
   "source": [
    "## Perfrom Monte Carlo Simulation to Determine `Likely Payouts` and `Value At Risk`. Define `Vol`, `Drift`, `Time to Expire`"
   ]
  },
  {
   "cell_type": "code",
   "execution_count": 5,
   "metadata": {},
   "outputs": [],
   "source": [
    "def mc_price(Spot, Drift, Sigma, Maturity):\n",
    "    \n",
    "    rand = round(random.random(),5)\n",
    "\n",
    "    ret = round(norm.ppf(rand, \n",
    "                    loc= (Drift - (Sigma**2 / 2))*Maturity, \n",
    "                    scale= (Sigma * np.sqrt(Maturity))),\n",
    "                5)\n",
    "\n",
    "    price = Spot * exp(ret)\n",
    "    \n",
    "    return price"
   ]
  },
  {
   "cell_type": "code",
   "execution_count": 6,
   "metadata": {
    "scrolled": true
   },
   "outputs": [],
   "source": [
    "def monte_carlo(Strike, Drift, Sigma, Maturity, n=10000):\n",
    "    level = []\n",
    "    payout = []\n",
    "    for i in range(0,n):\n",
    "        price = mc_price(Spot, Drift, Sigma, Maturity)\n",
    "        level.append(price)\n",
    "        \n",
    "        if price > Strike:\n",
    "            payout.append(100)\n",
    "        else:\n",
    "            payout.append(0)\n",
    "            \n",
    "    df = {\n",
    "        'Asset Level' : level,\n",
    "        'Payout' : payout\n",
    "    }\n",
    "    df = pd.DataFrame(df)\n",
    "    \n",
    "    display(df.describe())\n",
    "    \n",
    "    fig = plt.figure(figsize=(18,8))\n",
    "    plt.hist(df[\"Asset Level\"], bins=50, density=False)\n",
    "    plt.axvline(x=Strike, c='black')\n",
    "    plt.show()\n",
    "    \n",
    "    return df"
   ]
  },
  {
   "cell_type": "markdown",
   "metadata": {},
   "source": [
    "## Define Function to Combine Previous Functions "
   ]
  },
  {
   "cell_type": "code",
   "execution_count": 7,
   "metadata": {},
   "outputs": [],
   "source": [
    "def run_all(Spot, Strike, Sigma, Drift, Maturity, rf=.0023, divs=0.02, Payout=100, Call=True):\n",
    "    get_payouts(Strike, Call=True, step=3)\n",
    "    \n",
    "    bp = binary_price(Spot, Strike, Maturity, Sigma, Call=True, rf=.0023, divs=0.02, Payout=100)\n",
    "    \n",
    "    if Call == True:\n",
    "        type = 'Call'\n",
    "    else:\n",
    "        type = 'Put'\n",
    "    \n",
    "    print(f\"{type} @ ${Strike} Black-Scholes Price: ${bp}\")\n",
    "    \n",
    "    mc = monte_carlo(Strike, Drift, Sigma, Maturity)\n",
    "    \n",
    "    return mc"
   ]
  },
  {
   "cell_type": "markdown",
   "metadata": {},
   "source": [
    "## Create necessary widget objects"
   ]
  },
  {
   "cell_type": "code",
   "execution_count": 8,
   "metadata": {},
   "outputs": [],
   "source": [
    "Sigma = .75\n",
    "Drift = .001\n",
    "rf = 0.023"
   ]
  },
  {
   "cell_type": "code",
   "execution_count": 31,
   "metadata": {},
   "outputs": [],
   "source": [
    "############################################# The following section is usually in a seperate cell so I can \n",
    "df = {                                       # refresh my portfolio every day, but still add to the DF throughout the day\n",
    "    'Position' : [],\n",
    "    'Datetime' : [],\n",
    "    'Expire' : [],\n",
    "    'Type' : [],\n",
    "    'Quantity' : [],\n",
    "    'Strike' : [],\n",
    "    'Spot' : [],\n",
    "    'BS_Price' : []\n",
    "}\n",
    "\n",
    "df = pd.DataFrame(df)\n",
    "df.to_csv(\"portfolio.csv\", index=False)\n",
    "##############################################"
   ]
  },
  {
   "cell_type": "code",
   "execution_count": 32,
   "metadata": {
    "scrolled": false
   },
   "outputs": [
    {
     "data": {
      "application/vnd.jupyter.widget-view+json": {
       "model_id": "9c40a442ed734004b485baa606fd03e7",
       "version_major": 2,
       "version_minor": 0
      },
      "text/plain": [
       "VBox(children=(Box(children=(Dropdown(description='Select Binary Type', layout=Layout(width='max-content'), op…"
      ]
     },
     "metadata": {},
     "output_type": "display_data"
    },
    {
     "data": {
      "text/html": [
       "<div>\n",
       "<style scoped>\n",
       "    .dataframe tbody tr th:only-of-type {\n",
       "        vertical-align: middle;\n",
       "    }\n",
       "\n",
       "    .dataframe tbody tr th {\n",
       "        vertical-align: top;\n",
       "    }\n",
       "\n",
       "    .dataframe thead th {\n",
       "        text-align: right;\n",
       "    }\n",
       "</style>\n",
       "<table border=\"1\" class=\"dataframe\">\n",
       "  <thead>\n",
       "    <tr style=\"text-align: right;\">\n",
       "      <th></th>\n",
       "      <th>Datetime</th>\n",
       "      <th>Expire</th>\n",
       "      <th>Type</th>\n",
       "      <th>Quantity</th>\n",
       "      <th>Strike</th>\n",
       "      <th>Spot</th>\n",
       "      <th>BS_Price</th>\n",
       "    </tr>\n",
       "    <tr>\n",
       "      <th>Position</th>\n",
       "      <th></th>\n",
       "      <th></th>\n",
       "      <th></th>\n",
       "      <th></th>\n",
       "      <th></th>\n",
       "      <th></th>\n",
       "      <th></th>\n",
       "    </tr>\n",
       "  </thead>\n",
       "  <tbody>\n",
       "    <tr>\n",
       "      <th>1</th>\n",
       "      <td>2020-03-19 01:46:15.622741</td>\n",
       "      <td>2020-03-19 14:15:00.000001</td>\n",
       "      <td>Put</td>\n",
       "      <td>1</td>\n",
       "      <td>2408</td>\n",
       "      <td>2380</td>\n",
       "      <td>62.6</td>\n",
       "    </tr>\n",
       "  </tbody>\n",
       "</table>\n",
       "</div>"
      ],
      "text/plain": [
       "                           Datetime                     Expire Type Quantity  \\\n",
       "Position                                                                       \n",
       "1        2020-03-19 01:46:15.622741 2020-03-19 14:15:00.000001  Put        1   \n",
       "\n",
       "         Strike  Spot  BS_Price  \n",
       "Position                         \n",
       "1          2408  2380      62.6  "
      ]
     },
     "metadata": {},
     "output_type": "display_data"
    },
    {
     "data": {
      "text/html": [
       "<div>\n",
       "<style scoped>\n",
       "    .dataframe tbody tr th:only-of-type {\n",
       "        vertical-align: middle;\n",
       "    }\n",
       "\n",
       "    .dataframe tbody tr th {\n",
       "        vertical-align: top;\n",
       "    }\n",
       "\n",
       "    .dataframe thead th {\n",
       "        text-align: right;\n",
       "    }\n",
       "</style>\n",
       "<table border=\"1\" class=\"dataframe\">\n",
       "  <thead>\n",
       "    <tr style=\"text-align: right;\">\n",
       "      <th></th>\n",
       "      <th>Datetime</th>\n",
       "      <th>Expire</th>\n",
       "      <th>Type</th>\n",
       "      <th>Quantity</th>\n",
       "      <th>Strike</th>\n",
       "      <th>Spot</th>\n",
       "      <th>BS_Price</th>\n",
       "    </tr>\n",
       "    <tr>\n",
       "      <th>Position</th>\n",
       "      <th></th>\n",
       "      <th></th>\n",
       "      <th></th>\n",
       "      <th></th>\n",
       "      <th></th>\n",
       "      <th></th>\n",
       "      <th></th>\n",
       "    </tr>\n",
       "  </thead>\n",
       "  <tbody>\n",
       "    <tr>\n",
       "      <th>1</th>\n",
       "      <td>2020-03-19 01:46:15.622741</td>\n",
       "      <td>2020-03-19 14:15:00.000001</td>\n",
       "      <td>Put</td>\n",
       "      <td>1</td>\n",
       "      <td>2408</td>\n",
       "      <td>2380</td>\n",
       "      <td>62.60</td>\n",
       "    </tr>\n",
       "    <tr>\n",
       "      <th>2</th>\n",
       "      <td>2020-03-19 01:46:26.754109</td>\n",
       "      <td>2020-03-19 14:15:00.000001</td>\n",
       "      <td>Call</td>\n",
       "      <td>1</td>\n",
       "      <td>2382</td>\n",
       "      <td>2381</td>\n",
       "      <td>53.07</td>\n",
       "    </tr>\n",
       "  </tbody>\n",
       "</table>\n",
       "</div>"
      ],
      "text/plain": [
       "                            Datetime                      Expire  Type  \\\n",
       "Position                                                                 \n",
       "1         2020-03-19 01:46:15.622741  2020-03-19 14:15:00.000001   Put   \n",
       "2         2020-03-19 01:46:26.754109  2020-03-19 14:15:00.000001  Call   \n",
       "\n",
       "          Quantity  Strike  Spot  BS_Price  \n",
       "Position                                    \n",
       "1                1    2408  2380     62.60  \n",
       "2                1    2382  2381     53.07  "
      ]
     },
     "metadata": {},
     "output_type": "display_data"
    }
   ],
   "source": [
    "Type = widgets.Dropdown(\n",
    "    options = ['Call', 'Put'],\n",
    "    value = 'Call',\n",
    "    description= 'Select Binary Type',\n",
    "    disabled=False,\n",
    "    layout={'width': 'max-content'},\n",
    "    style={'description_width': 'max-content'}\n",
    ")\n",
    "\n",
    "Quantity = widgets.BoundedIntText(\n",
    "    value=1,\n",
    "    min=1,\n",
    "    max=10,\n",
    "    step=1,\n",
    "    description='Quantity:',\n",
    "    disabled=False,\n",
    "    layout={'width': 'max-content'},\n",
    "    style={'description_width': 'max-content'}\n",
    ")\n",
    "                                  \n",
    "Strike = widgets.BoundedIntText(\n",
    "    min=1500,\n",
    "    max=3500,\n",
    "    step=1,\n",
    "    description='Strike:',\n",
    "    disabled=False,\n",
    "    layout={'width': 'max-content'},\n",
    "    style={'description_width': 'max-content'}\n",
    ")\n",
    "\n",
    "Spot = widgets.BoundedIntText(\n",
    "    min=1500,\n",
    "    max=3500,\n",
    "    step=1,\n",
    "    description='Spot:',\n",
    "    disabled=False,\n",
    "    layout={'width': 'max-content'},\n",
    "    style={'description_width': 'max-content'}    \n",
    ")\n",
    "\n",
    "\n",
    "Add = widgets.Button(description=\"Add Data\")\n",
    "out = Output()\n",
    "\n",
    "def add_on_click(b):\n",
    "    \n",
    "    dt = datetime.now()\n",
    "    option = Type.value\n",
    "    quant = Quantity.value\n",
    "    strike = Strike.value\n",
    "    spot = Spot.value\n",
    "    \n",
    "    df = pd.read_csv(\"portfolio.csv\")\n",
    "    now = datetime.now()\n",
    "    \n",
    "    if (dt.hour > 14) | ((dt.hour == 14) & (dt.minute > 15)):\n",
    "        expire = datetime(now.year, now.month, now.day + 1, 14, 15,0,1)\n",
    "    else:\n",
    "        expire = datetime(now.year, now.month, now.day, 14, 15,0,1)\n",
    "    \n",
    "    Maturity = time_diff(end=expire, start=dt)\n",
    "    \n",
    "    if option == 'Call':\n",
    "        t_f=True\n",
    "    elif option == 'Put':\n",
    "        t_f=False\n",
    "    \n",
    "    price = binary_price(spot, strike, Maturity, Sigma, Call=t_f, rf=.023, divs=0.02)\n",
    "    \n",
    "    \n",
    "    add = {\n",
    "        'Position' : df.shape[0] + 1,\n",
    "        'Datetime' : dt,\n",
    "        'Expire' : expire,\n",
    "        'Type' : option,\n",
    "        'Quantity': quant,\n",
    "        'Strike' : strike,\n",
    "        'Spot': spot,\n",
    "        'BS_Price': price\n",
    "    }\n",
    "    \n",
    "    add = pd.DataFrame(add, index=[0])\n",
    "\n",
    "    df = pd.concat([df, add],sort=False) #ignore_index=True)\n",
    "    df.set_index('Position', inplace=True)\n",
    "    df.to_csv(\"portfolio.csv\", index=True)\n",
    "    \n",
    "    #out.clear_output()\n",
    "    display(df)\n",
    "    #with out:\n",
    "    #    display(df)\n",
    "\n",
    "    \n",
    "Add.on_click(add_on_click)\n",
    "    \n",
    "items = [Type, Quantity, Strike, Spot, Add]\n",
    "\n",
    "box_layout = Layout(display='flex',\n",
    "                    flex_flow='row',\n",
    "                    align_items='stretch',\n",
    "                    width='100%')\n",
    "\n",
    "box_auto = Box(children=items, layout=box_layout)\n",
    "\n",
    "display_widgets = VBox([box_auto])\n",
    "display_widgets"
   ]
  },
  {
   "cell_type": "code",
   "execution_count": 33,
   "metadata": {
    "scrolled": false
   },
   "outputs": [
    {
     "data": {
      "text/html": [
       "<div>\n",
       "<style scoped>\n",
       "    .dataframe tbody tr th:only-of-type {\n",
       "        vertical-align: middle;\n",
       "    }\n",
       "\n",
       "    .dataframe tbody tr th {\n",
       "        vertical-align: top;\n",
       "    }\n",
       "\n",
       "    .dataframe thead th {\n",
       "        text-align: right;\n",
       "    }\n",
       "</style>\n",
       "<table border=\"1\" class=\"dataframe\">\n",
       "  <thead>\n",
       "    <tr style=\"text-align: right;\">\n",
       "      <th></th>\n",
       "      <th>Position</th>\n",
       "      <th>Datetime</th>\n",
       "      <th>Expire</th>\n",
       "      <th>Type</th>\n",
       "      <th>Quantity</th>\n",
       "      <th>Strike</th>\n",
       "      <th>Spot</th>\n",
       "      <th>BS_Price</th>\n",
       "    </tr>\n",
       "  </thead>\n",
       "  <tbody>\n",
       "    <tr>\n",
       "      <th>0</th>\n",
       "      <td>1</td>\n",
       "      <td>2020-03-19 01:46:15.622741</td>\n",
       "      <td>2020-03-19 14:15:00.000001</td>\n",
       "      <td>Put</td>\n",
       "      <td>1</td>\n",
       "      <td>2408</td>\n",
       "      <td>2380</td>\n",
       "      <td>62.60</td>\n",
       "    </tr>\n",
       "    <tr>\n",
       "      <th>1</th>\n",
       "      <td>2</td>\n",
       "      <td>2020-03-19 01:46:26.754109</td>\n",
       "      <td>2020-03-19 14:15:00.000001</td>\n",
       "      <td>Call</td>\n",
       "      <td>1</td>\n",
       "      <td>2382</td>\n",
       "      <td>2381</td>\n",
       "      <td>53.07</td>\n",
       "    </tr>\n",
       "  </tbody>\n",
       "</table>\n",
       "</div>"
      ],
      "text/plain": [
       "   Position                    Datetime                      Expire  Type  \\\n",
       "0         1  2020-03-19 01:46:15.622741  2020-03-19 14:15:00.000001   Put   \n",
       "1         2  2020-03-19 01:46:26.754109  2020-03-19 14:15:00.000001  Call   \n",
       "\n",
       "   Quantity  Strike  Spot  BS_Price  \n",
       "0         1    2408  2380     62.60  \n",
       "1         1    2382  2381     53.07  "
      ]
     },
     "metadata": {},
     "output_type": "display_data"
    },
    {
     "data": {
      "image/png": "[encoded data removed]",
      "text/plain": [
       "<Figure size 1296x576 with 1 Axes>"
      ]
     },
     "metadata": {
      "needs_background": "light"
     },
     "output_type": "display_data"
    }
   ],
   "source": [
    "df = pd.read_csv('portfolio.csv')\n",
    "display(df)\n",
    "\n",
    "df = get_payouts(df, step=1)\n"
   ]
  },
  {
   "cell_type": "code",
   "execution_count": null,
   "metadata": {},
   "outputs": [],
   "source": [
    "#Identify options to buy. Start w/ binary options only for now\n",
    "Strike = 2558\n",
    "Spot = 2501\n",
    "\n",
    "now = datetime.now()\n",
    "end = datetime(now.year, now.month, now.day+1, now.hour, now.minute, now.second)\n",
    "Maturity = time_diff(end)\n",
    "\n",
    "Sigma = .75\n",
    "Drift = .02\n",
    "rf = 0.0023\n",
    "\n",
    "Buy = False\n",
    "Sell = True\n",
    "Quantity = 1\n",
    "Value = -30"
   ]
  },
  {
   "cell_type": "code",
   "execution_count": null,
   "metadata": {
    "scrolled": false
   },
   "outputs": [],
   "source": [
    "mc = run_all(Spot, Strike, Sigma, Drift, Maturity, rf=.0023, divs=0.02, Payout=100, Call=True)"
   ]
  },
  {
   "cell_type": "markdown",
   "metadata": {},
   "source": [
    "## Perform Historical Backtest to Determine Historical Payouts"
   ]
  },
  {
   "cell_type": "code",
   "execution_count": null,
   "metadata": {},
   "outputs": [],
   "source": []
  },
  {
   "cell_type": "code",
   "execution_count": null,
   "metadata": {},
   "outputs": [],
   "source": []
  }
 ],
 "metadata": {
  "kernelspec": {
   "display_name": "Python 3",
   "language": "python",
   "name": "python3"
  },
  "language_info": {
   "codemirror_mode": {
    "name": "ipython",
    "version": 3
   },
   "file_extension": ".py",
   "mimetype": "text/x-python",
   "name": "python",
   "nbconvert_exporter": "python",
   "pygments_lexer": "ipython3",
   "version": "3.7.3"
  }
 },
 "nbformat": 4,
 "nbformat_minor": 2
}
